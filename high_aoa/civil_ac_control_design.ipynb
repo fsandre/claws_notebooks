{
 "cells": [
  {
   "cell_type": "markdown",
   "id": "53df2f5d-6d91-4c4e-9179-1b9f6a53c0af",
   "metadata": {},
   "source": [
    "# Installing dependencies\n",
    "\n",
    "This notebook uses python-control."
   ]
  },
  {
   "cell_type": "code",
   "execution_count": 6,
   "id": "b26313c5-7f09-4b31-9274-e2c1f40596a7",
   "metadata": {},
   "outputs": [],
   "source": [
    "try:\n",
    "    import control\n",
    "except:\n",
    "    %pip install control"
   ]
  },
  {
   "cell_type": "markdown",
   "id": "4e5a7019-cd01-4810-95c7-d0763a028250",
   "metadata": {},
   "source": [
    "# Google Colab specifics\n",
    "\n",
    "To be able to import the custom modules, we need to execute this piece of code on GoogleColab environment."
   ]
  },
  {
   "cell_type": "code",
   "execution_count": 1,
   "id": "467f5405-91c1-4330-ae36-7dbea0c6ad20",
   "metadata": {},
   "outputs": [],
   "source": [
    "try:\n",
    "    import aoa_controller\n",
    "except:\n",
    "    !git clone https://github.com/fsandre/claws_notebooks.git\n",
    "    import sys\n",
    "    sys.path.insert(0,'/content/claws_notebooks/high_aoa')"
   ]
  },
  {
   "cell_type": "markdown",
   "id": "3756003d-ac09-40ec-98ea-891e81e2c7f1",
   "metadata": {},
   "source": [
    "# Gains Tuning"
   ]
  },
  {
   "cell_type": "code",
   "execution_count": 2,
   "id": "73a000c6-d727-4b03-b679-08bdb9215ba9",
   "metadata": {
    "editable": true,
    "slideshow": {
     "slide_type": ""
    },
    "tags": []
   },
   "outputs": [
    {
     "data": {
      "application/vnd.jupyter.widget-view+json": {
       "model_id": "77698e18ec4a4acd9f73e80d2599a4c6",
       "version_major": 2,
       "version_minor": 0
      },
      "text/plain": [
       "interactive(children=(FloatSlider(value=0.551, description='Kint', max=3.0, readout_format='.3f', step=0.01), …"
      ]
     },
     "metadata": {},
     "output_type": "display_data"
    }
   ],
   "source": [
    "import control as ct\n",
    "import aoa_controller\n",
    "import aoa_control_linear_analysis as ac\n",
    "import json\n",
    "from ipywidgets import interact, fixed, FloatSlider, FloatRangeSlider\n",
    "\n",
    "#sys_obj = json.load(open('./data/f16_502V_0gamma_0H_1.json','r'))\n",
    "sys_obj = json.load(open('./data/acLewis_250V_0gamma_0H_1.json','r'))\n",
    "ss_civil_ac = ct.ss(sys_obj['sys']['A'], sys_obj['sys']['B'], sys_obj['sys']['C'], sys_obj['sys']['D'], \n",
    "                    inputs=sys_obj['sys']['input_names'], \n",
    "                    states=sys_obj['sys']['state_names'], \n",
    "                    outputs=sys_obj['sys']['output_names'])\n",
    "\n",
    "Kint = FloatSlider(min=0.0,max=3.0,step=0.01, value=0.551, readout_format='.3f') \n",
    "KP = FloatSlider(min=0.0,max=3.0,step=0.01, value=0.1098, readout_format='.3f') \n",
    "Kq = FloatSlider(min=0.0,max=3.0,step=0.01, value=0.6, readout_format='.3f') \n",
    "KD = fixed(0*0.6) \n",
    "Ktasdot = FloatSlider(min=0.0,max=0.02,step=0.001, value=0.009, readout_format='.3f') \n",
    "Ktheta = FloatSlider(min=0.0,max=3.0,step=0.01, value=0.000, readout_format='.3f') \n",
    "KV = FloatSlider(min=0.0,max=0.02,step=0.001, value=0.007, readout_format='.3f')\n",
    "\n",
    "interactive_plot = interact(ac.aoa_fb_analysis, ss_ol_elev=fixed(ss_civil_ac),\n",
    "                            Kint=Kint, KP=KP, Kq=Kq, KD=KD, Ktasdot=Ktasdot, Ktheta=Ktheta, KV=KV\n",
    "                           )"
   ]
  },
  {
   "cell_type": "markdown",
   "id": "3cec6574-b6bd-405b-9989-7d256a170985",
   "metadata": {},
   "source": [
    "# Gains sensitivity"
   ]
  },
  {
   "cell_type": "code",
   "execution_count": 3,
   "id": "078ca8a6-15ef-43e8-b227-aa146f7661f8",
   "metadata": {},
   "outputs": [
    {
     "data": {
      "application/vnd.jupyter.widget-view+json": {
       "model_id": "21e87a06d13d44e5888d10f8870ea5b8",
       "version_major": 2,
       "version_minor": 0
      },
      "text/plain": [
       "interactive(children=(FloatRangeSlider(value=(0.001, 0.005), description='KV:', max=0.02, readout_format='.3f'…"
      ]
     },
     "metadata": {},
     "output_type": "display_data"
    }
   ],
   "source": [
    "range_slider = FloatRangeSlider(\n",
    "    value=[0.001, 0.005],\n",
    "    min=0., max=0.02, step=0.001,\n",
    "    description='KV:',\n",
    "    readout_format='.3f',\n",
    ")\n",
    "\n",
    "interactive_plot = interact(ac.aoa_sensitivity_kv, ss_ol=fixed(ss_civil_ac), kv_range=range_slider,\n",
    "                            Kint=fixed(0.480), KP=fixed(0.110), Kq=fixed(0.840), KD=fixed(0.0), Ktasdot=fixed(0.012), \n",
    "                            Ktheta=fixed(0.0), KV=fixed(0.007)\n",
    "                           )"
   ]
  }
 ],
 "metadata": {
  "kernelspec": {
   "display_name": "Python 3 (ipykernel)",
   "language": "python",
   "name": "python3"
  },
  "language_info": {
   "codemirror_mode": {
    "name": "ipython",
    "version": 3
   },
   "file_extension": ".py",
   "mimetype": "text/x-python",
   "name": "python",
   "nbconvert_exporter": "python",
   "pygments_lexer": "ipython3",
   "version": "3.12.2"
  }
 },
 "nbformat": 4,
 "nbformat_minor": 5
}
